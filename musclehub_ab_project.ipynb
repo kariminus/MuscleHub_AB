{
 "cells": [
  {
   "cell_type": "markdown",
   "metadata": {},
   "source": [
    "# A/B Test for MuscleHub\n",
    "***"
   ]
  },
  {
   "cell_type": "markdown",
   "metadata": {},
   "source": [
    "## Introduction"
   ]
  },
  {
   "cell_type": "markdown",
   "metadata": {},
   "source": [
    "Like most businesses, Janet keeps her data in a SQL database. You have already downloaded the data from her database to a csv file, and will load it into a Jupyter Notebook using pandas to conduct A/B testing for the MuscleHub Gym."
   ]
  },
  {
   "cell_type": "markdown",
   "metadata": {},
   "source": [
    "## Import the dataset"
   ]
  },
  {
   "cell_type": "code",
   "execution_count": 1,
   "metadata": {},
   "outputs": [],
   "source": [
    "import pandas as pd\n",
    "import numpy as np\n",
    "import seaborn as sns\n",
    "import matplotlib.pyplot as plt\n",
    "from scipy.stats import chi2_contingency"
   ]
  },
  {
   "cell_type": "code",
   "execution_count": 191,
   "metadata": {},
   "outputs": [
    {
     "data": {
      "text/html": [
       "<div>\n",
       "<style scoped>\n",
       "    .dataframe tbody tr th:only-of-type {\n",
       "        vertical-align: middle;\n",
       "    }\n",
       "\n",
       "    .dataframe tbody tr th {\n",
       "        vertical-align: top;\n",
       "    }\n",
       "\n",
       "    .dataframe thead th {\n",
       "        text-align: right;\n",
       "    }\n",
       "</style>\n",
       "<table border=\"1\" class=\"dataframe\">\n",
       "  <thead>\n",
       "    <tr style=\"text-align: right;\">\n",
       "      <th></th>\n",
       "      <th>first_name</th>\n",
       "      <th>last_name</th>\n",
       "      <th>email</th>\n",
       "      <th>gender</th>\n",
       "      <th>application_date</th>\n",
       "    </tr>\n",
       "  </thead>\n",
       "  <tbody>\n",
       "    <tr>\n",
       "      <th>0</th>\n",
       "      <td>Roy</td>\n",
       "      <td>Abbott</td>\n",
       "      <td>RoyAbbott32@gmail.com</td>\n",
       "      <td>male</td>\n",
       "      <td>2017-08-12</td>\n",
       "    </tr>\n",
       "    <tr>\n",
       "      <th>1</th>\n",
       "      <td>Agnes</td>\n",
       "      <td>Acevedo</td>\n",
       "      <td>AgnesAcevedo1@gmail.com</td>\n",
       "      <td>female</td>\n",
       "      <td>2017-09-29</td>\n",
       "    </tr>\n",
       "    <tr>\n",
       "      <th>2</th>\n",
       "      <td>Roberta</td>\n",
       "      <td>Acevedo</td>\n",
       "      <td>RA8063@gmail.com</td>\n",
       "      <td>female</td>\n",
       "      <td>2017-09-15</td>\n",
       "    </tr>\n",
       "    <tr>\n",
       "      <th>3</th>\n",
       "      <td>Darren</td>\n",
       "      <td>Acosta</td>\n",
       "      <td>DAcosta1996@hotmail.com</td>\n",
       "      <td>male</td>\n",
       "      <td>2017-07-26</td>\n",
       "    </tr>\n",
       "    <tr>\n",
       "      <th>4</th>\n",
       "      <td>Vernon</td>\n",
       "      <td>Acosta</td>\n",
       "      <td>VAcosta1975@gmail.com</td>\n",
       "      <td>male</td>\n",
       "      <td>2017-07-14</td>\n",
       "    </tr>\n",
       "  </tbody>\n",
       "</table>\n",
       "</div>"
      ],
      "text/plain": [
       "  first_name last_name                    email  gender application_date\n",
       "0        Roy    Abbott    RoyAbbott32@gmail.com    male       2017-08-12\n",
       "1      Agnes   Acevedo  AgnesAcevedo1@gmail.com  female       2017-09-29\n",
       "2    Roberta   Acevedo         RA8063@gmail.com  female       2017-09-15\n",
       "3     Darren    Acosta  DAcosta1996@hotmail.com    male       2017-07-26\n",
       "4     Vernon    Acosta    VAcosta1975@gmail.com    male       2017-07-14"
      ]
     },
     "execution_count": 191,
     "metadata": {},
     "output_type": "execute_result"
    }
   ],
   "source": [
    "applications = pd.read_csv(\"applications.csv\")\n",
    "applications.head()"
   ]
  },
  {
   "cell_type": "code",
   "execution_count": 192,
   "metadata": {},
   "outputs": [
    {
     "data": {
      "text/html": [
       "<div>\n",
       "<style scoped>\n",
       "    .dataframe tbody tr th:only-of-type {\n",
       "        vertical-align: middle;\n",
       "    }\n",
       "\n",
       "    .dataframe tbody tr th {\n",
       "        vertical-align: top;\n",
       "    }\n",
       "\n",
       "    .dataframe thead th {\n",
       "        text-align: right;\n",
       "    }\n",
       "</style>\n",
       "<table border=\"1\" class=\"dataframe\">\n",
       "  <thead>\n",
       "    <tr style=\"text-align: right;\">\n",
       "      <th></th>\n",
       "      <th>first_name</th>\n",
       "      <th>last_name</th>\n",
       "      <th>email</th>\n",
       "      <th>gender</th>\n",
       "      <th>fitness_test_date</th>\n",
       "    </tr>\n",
       "  </thead>\n",
       "  <tbody>\n",
       "    <tr>\n",
       "      <th>0</th>\n",
       "      <td>Kim</td>\n",
       "      <td>Walter</td>\n",
       "      <td>KimWalter58@gmail.com</td>\n",
       "      <td>female</td>\n",
       "      <td>2017-07-03</td>\n",
       "    </tr>\n",
       "    <tr>\n",
       "      <th>1</th>\n",
       "      <td>Tom</td>\n",
       "      <td>Webster</td>\n",
       "      <td>TW3857@gmail.com</td>\n",
       "      <td>male</td>\n",
       "      <td>2017-07-02</td>\n",
       "    </tr>\n",
       "    <tr>\n",
       "      <th>2</th>\n",
       "      <td>Marcus</td>\n",
       "      <td>Bauer</td>\n",
       "      <td>Marcus.Bauer@gmail.com</td>\n",
       "      <td>male</td>\n",
       "      <td>2017-07-01</td>\n",
       "    </tr>\n",
       "    <tr>\n",
       "      <th>3</th>\n",
       "      <td>Roberta</td>\n",
       "      <td>Best</td>\n",
       "      <td>RB6305@hotmail.com</td>\n",
       "      <td>female</td>\n",
       "      <td>2017-07-02</td>\n",
       "    </tr>\n",
       "    <tr>\n",
       "      <th>4</th>\n",
       "      <td>Carrie</td>\n",
       "      <td>Francis</td>\n",
       "      <td>CF1896@hotmail.com</td>\n",
       "      <td>female</td>\n",
       "      <td>2017-07-05</td>\n",
       "    </tr>\n",
       "  </tbody>\n",
       "</table>\n",
       "</div>"
      ],
      "text/plain": [
       "  first_name last_name                   email  gender fitness_test_date\n",
       "0        Kim    Walter   KimWalter58@gmail.com  female        2017-07-03\n",
       "1        Tom   Webster        TW3857@gmail.com    male        2017-07-02\n",
       "2     Marcus     Bauer  Marcus.Bauer@gmail.com    male        2017-07-01\n",
       "3    Roberta      Best      RB6305@hotmail.com  female        2017-07-02\n",
       "4     Carrie   Francis      CF1896@hotmail.com  female        2017-07-05"
      ]
     },
     "execution_count": 192,
     "metadata": {},
     "output_type": "execute_result"
    }
   ],
   "source": [
    "tests = pd.read_csv(\"fitness_tests.csv\")\n",
    "tests.head()"
   ]
  },
  {
   "cell_type": "code",
   "execution_count": 193,
   "metadata": {},
   "outputs": [
    {
     "data": {
      "text/html": [
       "<div>\n",
       "<style scoped>\n",
       "    .dataframe tbody tr th:only-of-type {\n",
       "        vertical-align: middle;\n",
       "    }\n",
       "\n",
       "    .dataframe tbody tr th {\n",
       "        vertical-align: top;\n",
       "    }\n",
       "\n",
       "    .dataframe thead th {\n",
       "        text-align: right;\n",
       "    }\n",
       "</style>\n",
       "<table border=\"1\" class=\"dataframe\">\n",
       "  <thead>\n",
       "    <tr style=\"text-align: right;\">\n",
       "      <th></th>\n",
       "      <th>first_name</th>\n",
       "      <th>last_name</th>\n",
       "      <th>email</th>\n",
       "      <th>gender</th>\n",
       "      <th>purchase_date</th>\n",
       "    </tr>\n",
       "  </thead>\n",
       "  <tbody>\n",
       "    <tr>\n",
       "      <th>0</th>\n",
       "      <td>Roy</td>\n",
       "      <td>Abbott</td>\n",
       "      <td>RoyAbbott32@gmail.com</td>\n",
       "      <td>male</td>\n",
       "      <td>2017-08-18</td>\n",
       "    </tr>\n",
       "    <tr>\n",
       "      <th>1</th>\n",
       "      <td>Roberta</td>\n",
       "      <td>Acevedo</td>\n",
       "      <td>RA8063@gmail.com</td>\n",
       "      <td>female</td>\n",
       "      <td>2017-09-16</td>\n",
       "    </tr>\n",
       "    <tr>\n",
       "      <th>2</th>\n",
       "      <td>Vernon</td>\n",
       "      <td>Acosta</td>\n",
       "      <td>VAcosta1975@gmail.com</td>\n",
       "      <td>male</td>\n",
       "      <td>2017-07-20</td>\n",
       "    </tr>\n",
       "    <tr>\n",
       "      <th>3</th>\n",
       "      <td>Darren</td>\n",
       "      <td>Acosta</td>\n",
       "      <td>DAcosta1996@hotmail.com</td>\n",
       "      <td>male</td>\n",
       "      <td>2017-07-27</td>\n",
       "    </tr>\n",
       "    <tr>\n",
       "      <th>4</th>\n",
       "      <td>Dawn</td>\n",
       "      <td>Adkins</td>\n",
       "      <td>Dawn.Adkins@gmail.com</td>\n",
       "      <td>female</td>\n",
       "      <td>2017-08-24</td>\n",
       "    </tr>\n",
       "  </tbody>\n",
       "</table>\n",
       "</div>"
      ],
      "text/plain": [
       "  first_name last_name                    email  gender purchase_date\n",
       "0        Roy    Abbott    RoyAbbott32@gmail.com    male    2017-08-18\n",
       "1    Roberta   Acevedo         RA8063@gmail.com  female    2017-09-16\n",
       "2     Vernon    Acosta    VAcosta1975@gmail.com    male    2017-07-20\n",
       "3     Darren    Acosta  DAcosta1996@hotmail.com    male    2017-07-27\n",
       "4       Dawn    Adkins    Dawn.Adkins@gmail.com  female    2017-08-24"
      ]
     },
     "execution_count": 193,
     "metadata": {},
     "output_type": "execute_result"
    }
   ],
   "source": [
    "purchases = pd.read_csv(\"purchases.csv\")\n",
    "purchases.head()"
   ]
  },
  {
   "cell_type": "code",
   "execution_count": 194,
   "metadata": {},
   "outputs": [
    {
     "data": {
      "text/html": [
       "<div>\n",
       "<style scoped>\n",
       "    .dataframe tbody tr th:only-of-type {\n",
       "        vertical-align: middle;\n",
       "    }\n",
       "\n",
       "    .dataframe tbody tr th {\n",
       "        vertical-align: top;\n",
       "    }\n",
       "\n",
       "    .dataframe thead th {\n",
       "        text-align: right;\n",
       "    }\n",
       "</style>\n",
       "<table border=\"1\" class=\"dataframe\">\n",
       "  <thead>\n",
       "    <tr style=\"text-align: right;\">\n",
       "      <th></th>\n",
       "      <th>first_name</th>\n",
       "      <th>last_name</th>\n",
       "      <th>email</th>\n",
       "      <th>gender</th>\n",
       "      <th>visit_date</th>\n",
       "    </tr>\n",
       "  </thead>\n",
       "  <tbody>\n",
       "    <tr>\n",
       "      <th>0</th>\n",
       "      <td>Karen</td>\n",
       "      <td>Manning</td>\n",
       "      <td>Karen.Manning@gmail.com</td>\n",
       "      <td>female</td>\n",
       "      <td>5-1-17</td>\n",
       "    </tr>\n",
       "    <tr>\n",
       "      <th>1</th>\n",
       "      <td>Annette</td>\n",
       "      <td>Boone</td>\n",
       "      <td>AB9982@gmail.com</td>\n",
       "      <td>female</td>\n",
       "      <td>5-1-17</td>\n",
       "    </tr>\n",
       "    <tr>\n",
       "      <th>2</th>\n",
       "      <td>Salvador</td>\n",
       "      <td>Merritt</td>\n",
       "      <td>SalvadorMerritt12@outlook.com</td>\n",
       "      <td>male</td>\n",
       "      <td>5-1-17</td>\n",
       "    </tr>\n",
       "    <tr>\n",
       "      <th>3</th>\n",
       "      <td>Martha</td>\n",
       "      <td>Maxwell</td>\n",
       "      <td>Martha.Maxwell@gmail.com</td>\n",
       "      <td>female</td>\n",
       "      <td>5-1-17</td>\n",
       "    </tr>\n",
       "    <tr>\n",
       "      <th>4</th>\n",
       "      <td>Andre</td>\n",
       "      <td>Mayer</td>\n",
       "      <td>AndreMayer90@gmail.com</td>\n",
       "      <td>male</td>\n",
       "      <td>5-1-17</td>\n",
       "    </tr>\n",
       "  </tbody>\n",
       "</table>\n",
       "</div>"
      ],
      "text/plain": [
       "  first_name last_name                          email  gender visit_date\n",
       "0      Karen   Manning        Karen.Manning@gmail.com  female     5-1-17\n",
       "1    Annette     Boone               AB9982@gmail.com  female     5-1-17\n",
       "2   Salvador   Merritt  SalvadorMerritt12@outlook.com    male     5-1-17\n",
       "3     Martha   Maxwell       Martha.Maxwell@gmail.com  female     5-1-17\n",
       "4      Andre     Mayer         AndreMayer90@gmail.com    male     5-1-17"
      ]
     },
     "execution_count": 194,
     "metadata": {},
     "output_type": "execute_result"
    }
   ],
   "source": [
    "visits = pd.read_csv(\"visits.csv\")\n",
    "visits.head()"
   ]
  },
  {
   "cell_type": "markdown",
   "metadata": {},
   "source": [
    "## Join all of your data"
   ]
  },
  {
   "cell_type": "markdown",
   "metadata": {},
   "source": [
    "It would be helpful to have a single DataFrame with all of this data. \n",
    "\n",
    "Create a DataFrame containing all of this data. We only want to pull data where `visit_date` is on or after 7-1-17."
   ]
  },
  {
   "cell_type": "code",
   "execution_count": 195,
   "metadata": {},
   "outputs": [
    {
     "data": {
      "text/plain": [
       "(5000, 5)"
      ]
     },
     "execution_count": 195,
     "metadata": {},
     "output_type": "execute_result"
    }
   ],
   "source": [
    "visits = visits[visits['visit_date'] >= '7-1-17']\n",
    "visits.shape"
   ]
  },
  {
   "cell_type": "code",
   "execution_count": 196,
   "metadata": {},
   "outputs": [
    {
     "data": {
      "text/html": [
       "<div>\n",
       "<style scoped>\n",
       "    .dataframe tbody tr th:only-of-type {\n",
       "        vertical-align: middle;\n",
       "    }\n",
       "\n",
       "    .dataframe tbody tr th {\n",
       "        vertical-align: top;\n",
       "    }\n",
       "\n",
       "    .dataframe thead th {\n",
       "        text-align: right;\n",
       "    }\n",
       "</style>\n",
       "<table border=\"1\" class=\"dataframe\">\n",
       "  <thead>\n",
       "    <tr style=\"text-align: right;\">\n",
       "      <th></th>\n",
       "      <th>first_name</th>\n",
       "      <th>last_name</th>\n",
       "      <th>email</th>\n",
       "      <th>gender</th>\n",
       "      <th>visit_date</th>\n",
       "      <th>fitness_test_date</th>\n",
       "      <th>application_date</th>\n",
       "      <th>purchase_date</th>\n",
       "    </tr>\n",
       "  </thead>\n",
       "  <tbody>\n",
       "    <tr>\n",
       "      <th>0</th>\n",
       "      <td>Kim</td>\n",
       "      <td>Walter</td>\n",
       "      <td>KimWalter58@gmail.com</td>\n",
       "      <td>female</td>\n",
       "      <td>7-1-17</td>\n",
       "      <td>2017-07-03</td>\n",
       "      <td>NaN</td>\n",
       "      <td>NaN</td>\n",
       "    </tr>\n",
       "    <tr>\n",
       "      <th>1</th>\n",
       "      <td>Tom</td>\n",
       "      <td>Webster</td>\n",
       "      <td>TW3857@gmail.com</td>\n",
       "      <td>male</td>\n",
       "      <td>7-1-17</td>\n",
       "      <td>2017-07-02</td>\n",
       "      <td>NaN</td>\n",
       "      <td>NaN</td>\n",
       "    </tr>\n",
       "    <tr>\n",
       "      <th>2</th>\n",
       "      <td>Edward</td>\n",
       "      <td>Bowen</td>\n",
       "      <td>Edward.Bowen@gmail.com</td>\n",
       "      <td>male</td>\n",
       "      <td>7-1-17</td>\n",
       "      <td>NaN</td>\n",
       "      <td>2017-07-04</td>\n",
       "      <td>2017-07-04</td>\n",
       "    </tr>\n",
       "    <tr>\n",
       "      <th>3</th>\n",
       "      <td>Marcus</td>\n",
       "      <td>Bauer</td>\n",
       "      <td>Marcus.Bauer@gmail.com</td>\n",
       "      <td>male</td>\n",
       "      <td>7-1-17</td>\n",
       "      <td>2017-07-01</td>\n",
       "      <td>2017-07-03</td>\n",
       "      <td>2017-07-05</td>\n",
       "    </tr>\n",
       "    <tr>\n",
       "      <th>4</th>\n",
       "      <td>Roberta</td>\n",
       "      <td>Best</td>\n",
       "      <td>RB6305@hotmail.com</td>\n",
       "      <td>female</td>\n",
       "      <td>7-1-17</td>\n",
       "      <td>2017-07-02</td>\n",
       "      <td>NaN</td>\n",
       "      <td>NaN</td>\n",
       "    </tr>\n",
       "  </tbody>\n",
       "</table>\n",
       "</div>"
      ],
      "text/plain": [
       "  first_name last_name                   email  gender visit_date  \\\n",
       "0        Kim    Walter   KimWalter58@gmail.com  female     7-1-17   \n",
       "1        Tom   Webster        TW3857@gmail.com    male     7-1-17   \n",
       "2     Edward     Bowen  Edward.Bowen@gmail.com    male     7-1-17   \n",
       "3     Marcus     Bauer  Marcus.Bauer@gmail.com    male     7-1-17   \n",
       "4    Roberta      Best      RB6305@hotmail.com  female     7-1-17   \n",
       "\n",
       "  fitness_test_date application_date purchase_date  \n",
       "0        2017-07-03              NaN           NaN  \n",
       "1        2017-07-02              NaN           NaN  \n",
       "2               NaN       2017-07-04    2017-07-04  \n",
       "3        2017-07-01       2017-07-03    2017-07-05  \n",
       "4        2017-07-02              NaN           NaN  "
      ]
     },
     "execution_count": 196,
     "metadata": {},
     "output_type": "execute_result"
    }
   ],
   "source": [
    "df = visits.merge(tests,on=['first_name', 'last_name', 'email', 'gender'], how='left').merge(\n",
    "    applications,on=['first_name', 'last_name', 'email', 'gender'], how='left').merge(\n",
    "    purchases,on=['first_name', 'last_name', 'email', 'gender'], how='left')\n",
    "    \n",
    "df.head()"
   ]
  },
  {
   "cell_type": "code",
   "execution_count": 197,
   "metadata": {},
   "outputs": [
    {
     "data": {
      "text/plain": [
       "(5004, 8)"
      ]
     },
     "execution_count": 197,
     "metadata": {},
     "output_type": "execute_result"
    }
   ],
   "source": [
    "df.shape"
   ]
  },
  {
   "cell_type": "markdown",
   "metadata": {},
   "source": [
    "## Visualize the Groups"
   ]
  },
  {
   "cell_type": "markdown",
   "metadata": {},
   "source": [
    "Having compiled the DataFrame we can use to begin our project.\n",
    "\n",
    "Visualization that depicts the distribution of potential customers that were given a fitness test and those that were not"
   ]
  },
  {
   "cell_type": "code",
   "execution_count": 198,
   "metadata": {},
   "outputs": [
    {
     "data": {
      "text/html": [
       "<div>\n",
       "<style scoped>\n",
       "    .dataframe tbody tr th:only-of-type {\n",
       "        vertical-align: middle;\n",
       "    }\n",
       "\n",
       "    .dataframe tbody tr th {\n",
       "        vertical-align: top;\n",
       "    }\n",
       "\n",
       "    .dataframe thead th {\n",
       "        text-align: right;\n",
       "    }\n",
       "</style>\n",
       "<table border=\"1\" class=\"dataframe\">\n",
       "  <thead>\n",
       "    <tr style=\"text-align: right;\">\n",
       "      <th></th>\n",
       "      <th>first_name</th>\n",
       "      <th>last_name</th>\n",
       "      <th>email</th>\n",
       "      <th>gender</th>\n",
       "      <th>visit_date</th>\n",
       "      <th>fitness_test_date</th>\n",
       "      <th>application_date</th>\n",
       "      <th>purchase_date</th>\n",
       "      <th>test_given</th>\n",
       "      <th>has_applied</th>\n",
       "      <th>is_member</th>\n",
       "    </tr>\n",
       "  </thead>\n",
       "  <tbody>\n",
       "    <tr>\n",
       "      <th>0</th>\n",
       "      <td>Kim</td>\n",
       "      <td>Walter</td>\n",
       "      <td>KimWalter58@gmail.com</td>\n",
       "      <td>female</td>\n",
       "      <td>7-1-17</td>\n",
       "      <td>2017-07-03</td>\n",
       "      <td>NaN</td>\n",
       "      <td>NaN</td>\n",
       "      <td>Group A</td>\n",
       "      <td>not applied</td>\n",
       "      <td>not member</td>\n",
       "    </tr>\n",
       "    <tr>\n",
       "      <th>1</th>\n",
       "      <td>Tom</td>\n",
       "      <td>Webster</td>\n",
       "      <td>TW3857@gmail.com</td>\n",
       "      <td>male</td>\n",
       "      <td>7-1-17</td>\n",
       "      <td>2017-07-02</td>\n",
       "      <td>NaN</td>\n",
       "      <td>NaN</td>\n",
       "      <td>Group A</td>\n",
       "      <td>not applied</td>\n",
       "      <td>not member</td>\n",
       "    </tr>\n",
       "    <tr>\n",
       "      <th>2</th>\n",
       "      <td>Edward</td>\n",
       "      <td>Bowen</td>\n",
       "      <td>Edward.Bowen@gmail.com</td>\n",
       "      <td>male</td>\n",
       "      <td>7-1-17</td>\n",
       "      <td>NaN</td>\n",
       "      <td>2017-07-04</td>\n",
       "      <td>2017-07-04</td>\n",
       "      <td>Group B</td>\n",
       "      <td>applied</td>\n",
       "      <td>member</td>\n",
       "    </tr>\n",
       "    <tr>\n",
       "      <th>3</th>\n",
       "      <td>Marcus</td>\n",
       "      <td>Bauer</td>\n",
       "      <td>Marcus.Bauer@gmail.com</td>\n",
       "      <td>male</td>\n",
       "      <td>7-1-17</td>\n",
       "      <td>2017-07-01</td>\n",
       "      <td>2017-07-03</td>\n",
       "      <td>2017-07-05</td>\n",
       "      <td>Group A</td>\n",
       "      <td>applied</td>\n",
       "      <td>member</td>\n",
       "    </tr>\n",
       "    <tr>\n",
       "      <th>4</th>\n",
       "      <td>Roberta</td>\n",
       "      <td>Best</td>\n",
       "      <td>RB6305@hotmail.com</td>\n",
       "      <td>female</td>\n",
       "      <td>7-1-17</td>\n",
       "      <td>2017-07-02</td>\n",
       "      <td>NaN</td>\n",
       "      <td>NaN</td>\n",
       "      <td>Group A</td>\n",
       "      <td>not applied</td>\n",
       "      <td>not member</td>\n",
       "    </tr>\n",
       "  </tbody>\n",
       "</table>\n",
       "</div>"
      ],
      "text/plain": [
       "  first_name last_name                   email  gender visit_date  \\\n",
       "0        Kim    Walter   KimWalter58@gmail.com  female     7-1-17   \n",
       "1        Tom   Webster        TW3857@gmail.com    male     7-1-17   \n",
       "2     Edward     Bowen  Edward.Bowen@gmail.com    male     7-1-17   \n",
       "3     Marcus     Bauer  Marcus.Bauer@gmail.com    male     7-1-17   \n",
       "4    Roberta      Best      RB6305@hotmail.com  female     7-1-17   \n",
       "\n",
       "  fitness_test_date application_date purchase_date test_given  has_applied  \\\n",
       "0        2017-07-03              NaN           NaN    Group A  not applied   \n",
       "1        2017-07-02              NaN           NaN    Group A  not applied   \n",
       "2               NaN       2017-07-04    2017-07-04    Group B      applied   \n",
       "3        2017-07-01       2017-07-03    2017-07-05    Group A      applied   \n",
       "4        2017-07-02              NaN           NaN    Group A  not applied   \n",
       "\n",
       "    is_member  \n",
       "0  not member  \n",
       "1  not member  \n",
       "2      member  \n",
       "3      member  \n",
       "4  not member  "
      ]
     },
     "execution_count": 198,
     "metadata": {},
     "output_type": "execute_result"
    }
   ],
   "source": [
    "df[\"test_given\"] = df[\"fitness_test_date\"].apply(lambda x : \"Group A\" if pd.notna(x) else \"Group B\")\n",
    "df[\"has_applied\"] = df[\"application_date\"].apply(lambda x : \"applied\" if pd.notna(x) else \"not applied\")\n",
    "df[\"is_member\"] = df[\"purchase_date\"].apply(lambda x : \"member\" if pd.notna(x) else \"not member\")\n",
    "df.head()"
   ]
  },
  {
   "cell_type": "code",
   "execution_count": 199,
   "metadata": {},
   "outputs": [
    {
     "data": {
      "image/png": "[encoded data removed]",
      "text/plain": [
       "<Figure size 432x288 with 1 Axes>"
      ]
     },
     "metadata": {},
     "output_type": "display_data"
    }
   ],
   "source": [
    "sns.set_context(\"notebook\")\n",
    "sns.set_style(\"whitegrid\")\n",
    "sns.countplot(x=\"test_given\", data=df)\n",
    "plt.show()\n",
    "plt.close()\n"
   ]
  },
  {
   "cell_type": "code",
   "execution_count": 200,
   "metadata": {},
   "outputs": [
    {
     "data": {
      "image/png": "[encoded data removed]",
      "text/plain": [
       "<Figure size 432x288 with 1 Axes>"
      ]
     },
     "metadata": {},
     "output_type": "display_data"
    }
   ],
   "source": [
    "data = df.test_given.value_counts()\n",
    "labels = data.index.values.tolist() \n",
    "colors = sns.color_palette('pastel')[0:2]\n",
    "plt.pie(data, labels = labels, colors = colors, autopct='%0.2f%%')\n",
    "plt.show()\n",
    "plt.close()"
   ]
  },
  {
   "cell_type": "markdown",
   "metadata": {},
   "source": [
    "## Determine the count of applications"
   ]
  },
  {
   "cell_type": "markdown",
   "metadata": {},
   "source": [
    "Recall that the sign-up process for MuscleHub has several steps:\n",
    "\n",
    "1. Take a fitness test with a personal trainer (only Group A).\n",
    "2. Fill out an application for the gym.\n",
    "3. Send in their payment for their first month's membership.\n",
    "\n",
    "Determine the percentage of people in each group who complete Step 2, filling out an application."
   ]
  },
  {
   "cell_type": "code",
   "execution_count": 201,
   "metadata": {},
   "outputs": [
    {
     "name": "stdout",
     "output_type": "stream",
     "text": [
      "9.98% of people in group A filled out an application\n"
     ]
    }
   ],
   "source": [
    "group_a = df[df.test_given == \"Group A\"]\n",
    "app_a = group_a.dropna(subset=[\"application_date\"])\n",
    "app_a_count = len(app_a)\n",
    "no_app_a_count = len(group_a) - app_a_count\n",
    "app_perc_a = (app_a_count / group_a.first_name.count() * 100).round(2)\n",
    "print(f\"{app_perc_a}% of people in group A filled out an application\")\n"
   ]
  },
  {
   "cell_type": "code",
   "execution_count": 202,
   "metadata": {},
   "outputs": [
    {
     "name": "stdout",
     "output_type": "stream",
     "text": [
      "12.98% of people in group B filled out an application\n"
     ]
    }
   ],
   "source": [
    "group_b = df[df.test_given == \"Group B\"]\n",
    "app_b = group_b.dropna(subset=[\"application_date\"])\n",
    "app_b_count = len(app_b)\n",
    "no_app_b_count = len(group_b) - app_b_count\n",
    "app_perc_b = (app_b_count / group_a.first_name.count() * 100).round(2)\n",
    "print(f\"{app_perc_b}% of people in group B filled out an application\")"
   ]
  },
  {
   "cell_type": "code",
   "execution_count": 203,
   "metadata": {},
   "outputs": [
    {
     "data": {
      "text/html": [
       "<div>\n",
       "<style scoped>\n",
       "    .dataframe tbody tr th:only-of-type {\n",
       "        vertical-align: middle;\n",
       "    }\n",
       "\n",
       "    .dataframe tbody tr th {\n",
       "        vertical-align: top;\n",
       "    }\n",
       "\n",
       "    .dataframe thead th {\n",
       "        text-align: right;\n",
       "    }\n",
       "</style>\n",
       "<table border=\"1\" class=\"dataframe\">\n",
       "  <thead>\n",
       "    <tr style=\"text-align: right;\">\n",
       "      <th>has_applied</th>\n",
       "      <th>test_given</th>\n",
       "      <th>applied</th>\n",
       "      <th>not applied</th>\n",
       "      <th>Total</th>\n",
       "      <th>Application percent</th>\n",
       "    </tr>\n",
       "  </thead>\n",
       "  <tbody>\n",
       "    <tr>\n",
       "      <th>0</th>\n",
       "      <td>Group A</td>\n",
       "      <td>250</td>\n",
       "      <td>2254</td>\n",
       "      <td>2504</td>\n",
       "      <td>0.09984</td>\n",
       "    </tr>\n",
       "    <tr>\n",
       "      <th>1</th>\n",
       "      <td>Group B</td>\n",
       "      <td>325</td>\n",
       "      <td>2175</td>\n",
       "      <td>2500</td>\n",
       "      <td>0.13000</td>\n",
       "    </tr>\n",
       "  </tbody>\n",
       "</table>\n",
       "</div>"
      ],
      "text/plain": [
       "has_applied test_given  applied  not applied  Total  Application percent\n",
       "0              Group A      250         2254   2504              0.09984\n",
       "1              Group B      325         2175   2500              0.13000"
      ]
     },
     "execution_count": 203,
     "metadata": {},
     "output_type": "execute_result"
    }
   ],
   "source": [
    "grouped_app = df.groupby([\"test_given\", \"has_applied\"]).first_name.count().reset_index()\n",
    "grouped_app = grouped_app.pivot(index=\"test_given\", columns=\"has_applied\", values=\"first_name\").reset_index()\n",
    "grouped_app[\"Total\"] = grouped_app[\"applied\"] + grouped_app[\"not applied\"]\n",
    "grouped_app[\"Application percent\"] = grouped_app[\"applied\"] / grouped_app[\"Total\"]\n",
    "grouped_app"
   ]
  },
  {
   "cell_type": "markdown",
   "metadata": {},
   "source": [
    "It looks like more people from Group B turned in an application.  Why might that be?\n",
    "\n",
    "We need to know if this difference is statistically significant."
   ]
  },
  {
   "cell_type": "markdown",
   "metadata": {},
   "source": [
    "## Calculate the statistical significance of applications"
   ]
  },
  {
   "cell_type": "markdown",
   "metadata": {},
   "source": [
    "Having calculated the difference in who turned in an application between groups, determine if this difference is statistically significant."
   ]
  },
  {
   "cell_type": "code",
   "execution_count": 204,
   "metadata": {
    "ExecuteTime": {
     "end_time": "2020-12-22T14:33:53.467891Z",
     "start_time": "2020-12-22T14:33:53.462100Z"
    }
   },
   "outputs": [
    {
     "data": {
      "text/plain": [
       "0.0009647827600722304"
      ]
     },
     "execution_count": 204,
     "metadata": {},
     "output_type": "execute_result"
    }
   ],
   "source": [
    "contingency = [[app_a_count, no_app_a_count], [app_b_count, no_app_b_count]]\n",
    "chi2, pval, dof, expected = chi2_contingency(contingency)\n",
    "pval"
   ]
  },
  {
   "cell_type": "markdown",
   "metadata": {},
   "source": [
    "A p-value of 0.00096 is less than a significance threshold of 0.05 which indicate a strong statistically significant difference between the two groups"
   ]
  },
  {
   "cell_type": "markdown",
   "metadata": {},
   "source": [
    "## Detemine the count of memberships from applications"
   ]
  },
  {
   "cell_type": "markdown",
   "metadata": {},
   "source": [
    "Of those who picked up an application, how many purchased a membership?\n",
    "\n",
    "Determine how many potential customers purchased a membership out of those that picked up an application."
   ]
  },
  {
   "cell_type": "code",
   "execution_count": 205,
   "metadata": {},
   "outputs": [
    {
     "data": {
      "text/plain": [
       "80.0"
      ]
     },
     "execution_count": 205,
     "metadata": {},
     "output_type": "execute_result"
    }
   ],
   "source": [
    "# Percentage of customers who picked an application and purchase a membership in group A\n",
    "app_purchase_a = app_a.dropna(subset=[\"purchase_date\"])\n",
    "len(app_purchase_a) / len(app_a) * 100"
   ]
  },
  {
   "cell_type": "code",
   "execution_count": 206,
   "metadata": {},
   "outputs": [
    {
     "data": {
      "text/plain": [
       "76.92307692307693"
      ]
     },
     "execution_count": 206,
     "metadata": {},
     "output_type": "execute_result"
    }
   ],
   "source": [
    "# Percentage of customers who picked an application and purchase a membership in group B\n",
    "app_purchase_b = app_b.dropna(subset=[\"purchase_date\"])\n",
    "len(app_purchase_b) / len(app_b) * 100"
   ]
  },
  {
   "cell_type": "code",
   "execution_count": 207,
   "metadata": {},
   "outputs": [
    {
     "data": {
      "text/html": [
       "<div>\n",
       "<style scoped>\n",
       "    .dataframe tbody tr th:only-of-type {\n",
       "        vertical-align: middle;\n",
       "    }\n",
       "\n",
       "    .dataframe tbody tr th {\n",
       "        vertical-align: top;\n",
       "    }\n",
       "\n",
       "    .dataframe thead th {\n",
       "        text-align: right;\n",
       "    }\n",
       "</style>\n",
       "<table border=\"1\" class=\"dataframe\">\n",
       "  <thead>\n",
       "    <tr style=\"text-align: right;\">\n",
       "      <th>is_member</th>\n",
       "      <th>test_given</th>\n",
       "      <th>member</th>\n",
       "      <th>not member</th>\n",
       "      <th>Total</th>\n",
       "      <th>Member percent</th>\n",
       "    </tr>\n",
       "  </thead>\n",
       "  <tbody>\n",
       "    <tr>\n",
       "      <th>0</th>\n",
       "      <td>Group A</td>\n",
       "      <td>200</td>\n",
       "      <td>50</td>\n",
       "      <td>250</td>\n",
       "      <td>0.800000</td>\n",
       "    </tr>\n",
       "    <tr>\n",
       "      <th>1</th>\n",
       "      <td>Group B</td>\n",
       "      <td>250</td>\n",
       "      <td>75</td>\n",
       "      <td>325</td>\n",
       "      <td>0.769231</td>\n",
       "    </tr>\n",
       "  </tbody>\n",
       "</table>\n",
       "</div>"
      ],
      "text/plain": [
       "is_member test_given  member  not member  Total  Member percent\n",
       "0            Group A     200          50    250        0.800000\n",
       "1            Group B     250          75    325        0.769231"
      ]
     },
     "execution_count": 207,
     "metadata": {},
     "output_type": "execute_result"
    }
   ],
   "source": [
    "apps = df.dropna(subset=[\"application_date\"])\n",
    "grouped = apps.groupby([\"test_given\", \"is_member\"]).first_name.count().reset_index()\n",
    "grouped = grouped.pivot(index=\"test_given\", columns=\"is_member\", values=\"first_name\").reset_index()\n",
    "grouped[\"Total\"] = grouped[\"member\"] + grouped[\"not member\"]\n",
    "grouped[\"Member percent\"] = grouped[\"member\"] / grouped[\"Total\"]\n",
    "grouped"
   ]
  },
  {
   "cell_type": "markdown",
   "metadata": {},
   "source": [
    "It looks like people who took the fitness test were more likely to purchase a membership if they picked up an application. Why might that be?"
   ]
  },
  {
   "cell_type": "markdown",
   "metadata": {},
   "source": [
    "## Calculate the statistical significance of memberships"
   ]
  },
  {
   "cell_type": "markdown",
   "metadata": {
    "ExecuteTime": {
     "end_time": "2020-12-22T14:22:22.296025Z",
     "start_time": "2020-12-22T14:22:22.284482Z"
    }
   },
   "source": [
    "Calculate if the difference between the following groups is statistically significant: \n",
    "- The customers that picked up an application and took a fitness test.\n",
    "- The customers that did not take a fitness test and picked up an application."
   ]
  },
  {
   "cell_type": "code",
   "execution_count": 208,
   "metadata": {},
   "outputs": [
    {
     "data": {
      "text/html": [
       "<div>\n",
       "<style scoped>\n",
       "    .dataframe tbody tr th:only-of-type {\n",
       "        vertical-align: middle;\n",
       "    }\n",
       "\n",
       "    .dataframe tbody tr th {\n",
       "        vertical-align: top;\n",
       "    }\n",
       "\n",
       "    .dataframe thead th {\n",
       "        text-align: right;\n",
       "    }\n",
       "</style>\n",
       "<table border=\"1\" class=\"dataframe\">\n",
       "  <thead>\n",
       "    <tr style=\"text-align: right;\">\n",
       "      <th></th>\n",
       "      <th>first_name</th>\n",
       "      <th>last_name</th>\n",
       "      <th>email</th>\n",
       "      <th>gender</th>\n",
       "      <th>visit_date</th>\n",
       "      <th>fitness_test_date</th>\n",
       "      <th>application_date</th>\n",
       "      <th>purchase_date</th>\n",
       "      <th>test_given</th>\n",
       "      <th>has_applied</th>\n",
       "      <th>is_member</th>\n",
       "    </tr>\n",
       "  </thead>\n",
       "  <tbody>\n",
       "    <tr>\n",
       "      <th>3</th>\n",
       "      <td>Marcus</td>\n",
       "      <td>Bauer</td>\n",
       "      <td>Marcus.Bauer@gmail.com</td>\n",
       "      <td>male</td>\n",
       "      <td>7-1-17</td>\n",
       "      <td>2017-07-01</td>\n",
       "      <td>2017-07-03</td>\n",
       "      <td>2017-07-05</td>\n",
       "      <td>Group A</td>\n",
       "      <td>applied</td>\n",
       "      <td>member</td>\n",
       "    </tr>\n",
       "    <tr>\n",
       "      <th>11</th>\n",
       "      <td>Valerie</td>\n",
       "      <td>Munoz</td>\n",
       "      <td>VMunoz1998@gmail.com</td>\n",
       "      <td>female</td>\n",
       "      <td>7-1-17</td>\n",
       "      <td>2017-07-03</td>\n",
       "      <td>2017-07-05</td>\n",
       "      <td>2017-07-06</td>\n",
       "      <td>Group A</td>\n",
       "      <td>applied</td>\n",
       "      <td>member</td>\n",
       "    </tr>\n",
       "    <tr>\n",
       "      <th>131</th>\n",
       "      <td>Nora</td>\n",
       "      <td>Collier</td>\n",
       "      <td>NoraCollier26@gmail.com</td>\n",
       "      <td>female</td>\n",
       "      <td>7-11-17</td>\n",
       "      <td>2017-07-11</td>\n",
       "      <td>2017-07-15</td>\n",
       "      <td>2017-07-20</td>\n",
       "      <td>Group A</td>\n",
       "      <td>applied</td>\n",
       "      <td>member</td>\n",
       "    </tr>\n",
       "    <tr>\n",
       "      <th>149</th>\n",
       "      <td>Lonnie</td>\n",
       "      <td>Brennan</td>\n",
       "      <td>Lonnie.Brennan@gmail.com</td>\n",
       "      <td>male</td>\n",
       "      <td>7-11-17</td>\n",
       "      <td>2017-07-12</td>\n",
       "      <td>2017-07-17</td>\n",
       "      <td>2017-07-17</td>\n",
       "      <td>Group A</td>\n",
       "      <td>applied</td>\n",
       "      <td>member</td>\n",
       "    </tr>\n",
       "    <tr>\n",
       "      <th>154</th>\n",
       "      <td>Agnes</td>\n",
       "      <td>Raymond</td>\n",
       "      <td>AR4756@aol.com</td>\n",
       "      <td>female</td>\n",
       "      <td>7-11-17</td>\n",
       "      <td>2017-07-13</td>\n",
       "      <td>2017-07-17</td>\n",
       "      <td>2017-07-18</td>\n",
       "      <td>Group A</td>\n",
       "      <td>applied</td>\n",
       "      <td>member</td>\n",
       "    </tr>\n",
       "    <tr>\n",
       "      <th>...</th>\n",
       "      <td>...</td>\n",
       "      <td>...</td>\n",
       "      <td>...</td>\n",
       "      <td>...</td>\n",
       "      <td>...</td>\n",
       "      <td>...</td>\n",
       "      <td>...</td>\n",
       "      <td>...</td>\n",
       "      <td>...</td>\n",
       "      <td>...</td>\n",
       "      <td>...</td>\n",
       "    </tr>\n",
       "    <tr>\n",
       "      <th>4893</th>\n",
       "      <td>Anna</td>\n",
       "      <td>Aguilar</td>\n",
       "      <td>AA9306@gmail.com</td>\n",
       "      <td>female</td>\n",
       "      <td>9-8-17</td>\n",
       "      <td>2017-09-09</td>\n",
       "      <td>2017-09-10</td>\n",
       "      <td>2017-09-16</td>\n",
       "      <td>Group A</td>\n",
       "      <td>applied</td>\n",
       "      <td>member</td>\n",
       "    </tr>\n",
       "    <tr>\n",
       "      <th>4918</th>\n",
       "      <td>Erika</td>\n",
       "      <td>Guthrie</td>\n",
       "      <td>ErikaGuthrie24@gmail.com</td>\n",
       "      <td>female</td>\n",
       "      <td>9-8-17</td>\n",
       "      <td>2017-09-13</td>\n",
       "      <td>2017-09-11</td>\n",
       "      <td>2017-09-13</td>\n",
       "      <td>Group A</td>\n",
       "      <td>applied</td>\n",
       "      <td>member</td>\n",
       "    </tr>\n",
       "    <tr>\n",
       "      <th>4934</th>\n",
       "      <td>Steve</td>\n",
       "      <td>Middleton</td>\n",
       "      <td>SM5586@gmail.com</td>\n",
       "      <td>male</td>\n",
       "      <td>9-8-17</td>\n",
       "      <td>2017-09-08</td>\n",
       "      <td>2017-09-11</td>\n",
       "      <td>2017-09-17</td>\n",
       "      <td>Group A</td>\n",
       "      <td>applied</td>\n",
       "      <td>member</td>\n",
       "    </tr>\n",
       "    <tr>\n",
       "      <th>4944</th>\n",
       "      <td>Frances</td>\n",
       "      <td>Kerr</td>\n",
       "      <td>FK7982@gmail.com</td>\n",
       "      <td>female</td>\n",
       "      <td>9-8-17</td>\n",
       "      <td>2017-09-12</td>\n",
       "      <td>2017-09-10</td>\n",
       "      <td>2017-09-15</td>\n",
       "      <td>Group A</td>\n",
       "      <td>applied</td>\n",
       "      <td>member</td>\n",
       "    </tr>\n",
       "    <tr>\n",
       "      <th>4991</th>\n",
       "      <td>Suzanne</td>\n",
       "      <td>Humphrey</td>\n",
       "      <td>SuzanneHumphrey4@gmail.com</td>\n",
       "      <td>female</td>\n",
       "      <td>9-9-17</td>\n",
       "      <td>2017-09-09</td>\n",
       "      <td>2017-09-13</td>\n",
       "      <td>2017-09-18</td>\n",
       "      <td>Group A</td>\n",
       "      <td>applied</td>\n",
       "      <td>member</td>\n",
       "    </tr>\n",
       "  </tbody>\n",
       "</table>\n",
       "<p>200 rows × 11 columns</p>\n",
       "</div>"
      ],
      "text/plain": [
       "     first_name  last_name                       email  gender visit_date  \\\n",
       "3        Marcus      Bauer      Marcus.Bauer@gmail.com    male     7-1-17   \n",
       "11      Valerie      Munoz        VMunoz1998@gmail.com  female     7-1-17   \n",
       "131        Nora    Collier     NoraCollier26@gmail.com  female    7-11-17   \n",
       "149      Lonnie    Brennan    Lonnie.Brennan@gmail.com    male    7-11-17   \n",
       "154       Agnes    Raymond              AR4756@aol.com  female    7-11-17   \n",
       "...         ...        ...                         ...     ...        ...   \n",
       "4893       Anna    Aguilar            AA9306@gmail.com  female     9-8-17   \n",
       "4918      Erika    Guthrie    ErikaGuthrie24@gmail.com  female     9-8-17   \n",
       "4934      Steve  Middleton            SM5586@gmail.com    male     9-8-17   \n",
       "4944    Frances       Kerr            FK7982@gmail.com  female     9-8-17   \n",
       "4991    Suzanne   Humphrey  SuzanneHumphrey4@gmail.com  female     9-9-17   \n",
       "\n",
       "     fitness_test_date application_date purchase_date test_given has_applied  \\\n",
       "3           2017-07-01       2017-07-03    2017-07-05    Group A     applied   \n",
       "11          2017-07-03       2017-07-05    2017-07-06    Group A     applied   \n",
       "131         2017-07-11       2017-07-15    2017-07-20    Group A     applied   \n",
       "149         2017-07-12       2017-07-17    2017-07-17    Group A     applied   \n",
       "154         2017-07-13       2017-07-17    2017-07-18    Group A     applied   \n",
       "...                ...              ...           ...        ...         ...   \n",
       "4893        2017-09-09       2017-09-10    2017-09-16    Group A     applied   \n",
       "4918        2017-09-13       2017-09-11    2017-09-13    Group A     applied   \n",
       "4934        2017-09-08       2017-09-11    2017-09-17    Group A     applied   \n",
       "4944        2017-09-12       2017-09-10    2017-09-15    Group A     applied   \n",
       "4991        2017-09-09       2017-09-13    2017-09-18    Group A     applied   \n",
       "\n",
       "     is_member  \n",
       "3       member  \n",
       "11      member  \n",
       "131     member  \n",
       "149     member  \n",
       "154     member  \n",
       "...        ...  \n",
       "4893    member  \n",
       "4918    member  \n",
       "4934    member  \n",
       "4944    member  \n",
       "4991    member  \n",
       "\n",
       "[200 rows x 11 columns]"
      ]
     },
     "execution_count": 208,
     "metadata": {},
     "output_type": "execute_result"
    }
   ],
   "source": [
    "# Customers who picked up an application and took a fitness test\n",
    "members = df[df[\"is_member\"] == \"member\"]\n",
    "not_members= df[df[\"is_member\"] == \"not member\"]\n",
    "app_fit = members.dropna(subset=[\"application_date\", \"fitness_test_date\"])\n",
    "app_fit"
   ]
  },
  {
   "cell_type": "code",
   "execution_count": 209,
   "metadata": {},
   "outputs": [
    {
     "name": "stderr",
     "output_type": "stream",
     "text": [
      "C:\\Users\\karim\\AppData\\Local\\Temp/ipykernel_9916/3130790301.py:2: UserWarning: Boolean Series key will be reindexed to match DataFrame index.\n",
      "  app_nofit = members[pd.isna(df[\"fitness_test_date\"])]\n"
     ]
    },
    {
     "data": {
      "text/html": [
       "<div>\n",
       "<style scoped>\n",
       "    .dataframe tbody tr th:only-of-type {\n",
       "        vertical-align: middle;\n",
       "    }\n",
       "\n",
       "    .dataframe tbody tr th {\n",
       "        vertical-align: top;\n",
       "    }\n",
       "\n",
       "    .dataframe thead th {\n",
       "        text-align: right;\n",
       "    }\n",
       "</style>\n",
       "<table border=\"1\" class=\"dataframe\">\n",
       "  <thead>\n",
       "    <tr style=\"text-align: right;\">\n",
       "      <th></th>\n",
       "      <th>first_name</th>\n",
       "      <th>last_name</th>\n",
       "      <th>email</th>\n",
       "      <th>gender</th>\n",
       "      <th>visit_date</th>\n",
       "      <th>fitness_test_date</th>\n",
       "      <th>application_date</th>\n",
       "      <th>purchase_date</th>\n",
       "      <th>test_given</th>\n",
       "      <th>has_applied</th>\n",
       "      <th>is_member</th>\n",
       "    </tr>\n",
       "  </thead>\n",
       "  <tbody>\n",
       "    <tr>\n",
       "      <th>2</th>\n",
       "      <td>Edward</td>\n",
       "      <td>Bowen</td>\n",
       "      <td>Edward.Bowen@gmail.com</td>\n",
       "      <td>male</td>\n",
       "      <td>7-1-17</td>\n",
       "      <td>NaN</td>\n",
       "      <td>2017-07-04</td>\n",
       "      <td>2017-07-04</td>\n",
       "      <td>Group B</td>\n",
       "      <td>applied</td>\n",
       "      <td>member</td>\n",
       "    </tr>\n",
       "    <tr>\n",
       "      <th>35</th>\n",
       "      <td>Michael</td>\n",
       "      <td>Burks</td>\n",
       "      <td>MB9820@gmail.com</td>\n",
       "      <td>male</td>\n",
       "      <td>7-1-17</td>\n",
       "      <td>NaN</td>\n",
       "      <td>2017-07-07</td>\n",
       "      <td>2017-07-13</td>\n",
       "      <td>Group B</td>\n",
       "      <td>applied</td>\n",
       "      <td>member</td>\n",
       "    </tr>\n",
       "    <tr>\n",
       "      <th>69</th>\n",
       "      <td>Sonia</td>\n",
       "      <td>Harrell</td>\n",
       "      <td>SoniaHarrell53@gmail.com</td>\n",
       "      <td>female</td>\n",
       "      <td>7-10-17</td>\n",
       "      <td>NaN</td>\n",
       "      <td>2017-07-12</td>\n",
       "      <td>2017-07-14</td>\n",
       "      <td>Group B</td>\n",
       "      <td>applied</td>\n",
       "      <td>member</td>\n",
       "    </tr>\n",
       "    <tr>\n",
       "      <th>95</th>\n",
       "      <td>Marlene</td>\n",
       "      <td>Barron</td>\n",
       "      <td>MBarron1979@yahoo.com</td>\n",
       "      <td>female</td>\n",
       "      <td>7-10-17</td>\n",
       "      <td>NaN</td>\n",
       "      <td>2017-07-11</td>\n",
       "      <td>2017-07-15</td>\n",
       "      <td>Group B</td>\n",
       "      <td>applied</td>\n",
       "      <td>member</td>\n",
       "    </tr>\n",
       "    <tr>\n",
       "      <th>122</th>\n",
       "      <td>Lisa</td>\n",
       "      <td>Kramer</td>\n",
       "      <td>Lisa.Kramer@gmail.com</td>\n",
       "      <td>female</td>\n",
       "      <td>7-10-17</td>\n",
       "      <td>NaN</td>\n",
       "      <td>2017-07-14</td>\n",
       "      <td>2017-07-18</td>\n",
       "      <td>Group B</td>\n",
       "      <td>applied</td>\n",
       "      <td>member</td>\n",
       "    </tr>\n",
       "    <tr>\n",
       "      <th>...</th>\n",
       "      <td>...</td>\n",
       "      <td>...</td>\n",
       "      <td>...</td>\n",
       "      <td>...</td>\n",
       "      <td>...</td>\n",
       "      <td>...</td>\n",
       "      <td>...</td>\n",
       "      <td>...</td>\n",
       "      <td>...</td>\n",
       "      <td>...</td>\n",
       "      <td>...</td>\n",
       "    </tr>\n",
       "    <tr>\n",
       "      <th>4864</th>\n",
       "      <td>Terrence</td>\n",
       "      <td>Sandoval</td>\n",
       "      <td>TS7554@gmail.com</td>\n",
       "      <td>male</td>\n",
       "      <td>9-7-17</td>\n",
       "      <td>NaN</td>\n",
       "      <td>2017-09-07</td>\n",
       "      <td>2017-09-10</td>\n",
       "      <td>Group B</td>\n",
       "      <td>applied</td>\n",
       "      <td>member</td>\n",
       "    </tr>\n",
       "    <tr>\n",
       "      <th>4868</th>\n",
       "      <td>Rosa</td>\n",
       "      <td>Woodard</td>\n",
       "      <td>RosaWoodard27@outlook.com</td>\n",
       "      <td>female</td>\n",
       "      <td>9-7-17</td>\n",
       "      <td>NaN</td>\n",
       "      <td>2017-09-08</td>\n",
       "      <td>2017-09-14</td>\n",
       "      <td>Group B</td>\n",
       "      <td>applied</td>\n",
       "      <td>member</td>\n",
       "    </tr>\n",
       "    <tr>\n",
       "      <th>4905</th>\n",
       "      <td>Miriam</td>\n",
       "      <td>Phelps</td>\n",
       "      <td>MiriamPhelps13@gmail.com</td>\n",
       "      <td>female</td>\n",
       "      <td>9-8-17</td>\n",
       "      <td>NaN</td>\n",
       "      <td>2017-09-13</td>\n",
       "      <td>2017-09-15</td>\n",
       "      <td>Group B</td>\n",
       "      <td>applied</td>\n",
       "      <td>member</td>\n",
       "    </tr>\n",
       "    <tr>\n",
       "      <th>4964</th>\n",
       "      <td>Raymond</td>\n",
       "      <td>Cantrell</td>\n",
       "      <td>Raymond.Cantrell@gmail.com</td>\n",
       "      <td>male</td>\n",
       "      <td>9-9-17</td>\n",
       "      <td>NaN</td>\n",
       "      <td>2017-09-13</td>\n",
       "      <td>2017-09-18</td>\n",
       "      <td>Group B</td>\n",
       "      <td>applied</td>\n",
       "      <td>member</td>\n",
       "    </tr>\n",
       "    <tr>\n",
       "      <th>4972</th>\n",
       "      <td>Roberta</td>\n",
       "      <td>Acevedo</td>\n",
       "      <td>RA8063@gmail.com</td>\n",
       "      <td>female</td>\n",
       "      <td>9-9-17</td>\n",
       "      <td>NaN</td>\n",
       "      <td>2017-09-15</td>\n",
       "      <td>2017-09-16</td>\n",
       "      <td>Group B</td>\n",
       "      <td>applied</td>\n",
       "      <td>member</td>\n",
       "    </tr>\n",
       "  </tbody>\n",
       "</table>\n",
       "<p>250 rows × 11 columns</p>\n",
       "</div>"
      ],
      "text/plain": [
       "     first_name last_name                       email  gender visit_date  \\\n",
       "2        Edward     Bowen      Edward.Bowen@gmail.com    male     7-1-17   \n",
       "35      Michael     Burks            MB9820@gmail.com    male     7-1-17   \n",
       "69        Sonia   Harrell    SoniaHarrell53@gmail.com  female    7-10-17   \n",
       "95      Marlene    Barron       MBarron1979@yahoo.com  female    7-10-17   \n",
       "122        Lisa    Kramer       Lisa.Kramer@gmail.com  female    7-10-17   \n",
       "...         ...       ...                         ...     ...        ...   \n",
       "4864   Terrence  Sandoval            TS7554@gmail.com    male     9-7-17   \n",
       "4868       Rosa   Woodard   RosaWoodard27@outlook.com  female     9-7-17   \n",
       "4905     Miriam    Phelps    MiriamPhelps13@gmail.com  female     9-8-17   \n",
       "4964    Raymond  Cantrell  Raymond.Cantrell@gmail.com    male     9-9-17   \n",
       "4972    Roberta   Acevedo            RA8063@gmail.com  female     9-9-17   \n",
       "\n",
       "     fitness_test_date application_date purchase_date test_given has_applied  \\\n",
       "2                  NaN       2017-07-04    2017-07-04    Group B     applied   \n",
       "35                 NaN       2017-07-07    2017-07-13    Group B     applied   \n",
       "69                 NaN       2017-07-12    2017-07-14    Group B     applied   \n",
       "95                 NaN       2017-07-11    2017-07-15    Group B     applied   \n",
       "122                NaN       2017-07-14    2017-07-18    Group B     applied   \n",
       "...                ...              ...           ...        ...         ...   \n",
       "4864               NaN       2017-09-07    2017-09-10    Group B     applied   \n",
       "4868               NaN       2017-09-08    2017-09-14    Group B     applied   \n",
       "4905               NaN       2017-09-13    2017-09-15    Group B     applied   \n",
       "4964               NaN       2017-09-13    2017-09-18    Group B     applied   \n",
       "4972               NaN       2017-09-15    2017-09-16    Group B     applied   \n",
       "\n",
       "     is_member  \n",
       "2       member  \n",
       "35      member  \n",
       "69      member  \n",
       "95      member  \n",
       "122     member  \n",
       "...        ...  \n",
       "4864    member  \n",
       "4868    member  \n",
       "4905    member  \n",
       "4964    member  \n",
       "4972    member  \n",
       "\n",
       "[250 rows x 11 columns]"
      ]
     },
     "execution_count": 209,
     "metadata": {},
     "output_type": "execute_result"
    }
   ],
   "source": [
    "# Customers who didn't take a fitness test and picked up an application\n",
    "app_nofit = members[pd.isna(df[\"fitness_test_date\"])]\n",
    "app_nofit = app_nofit.dropna(subset=[\"application_date\"])\n",
    "app_nofit"
   ]
  },
  {
   "cell_type": "code",
   "execution_count": 210,
   "metadata": {},
   "outputs": [
    {
     "data": {
      "text/plain": [
       "0.43258646051083327"
      ]
     },
     "execution_count": 210,
     "metadata": {},
     "output_type": "execute_result"
    }
   ],
   "source": [
    "# p-value\n",
    "contingency = [[200, 50], [250, 75]]\n",
    "chi2, pval, dof, expected = chi2_contingency(contingency)\n",
    "pval"
   ]
  },
  {
   "cell_type": "markdown",
   "metadata": {},
   "source": [
    "## Detemine the count of all memberships"
   ]
  },
  {
   "cell_type": "markdown",
   "metadata": {},
   "source": [
    "Previously, you looked at what percentage of people who picked up applications purchased memberships. \n",
    "\n",
    "Now, determine what percentage of ALL visitors purchased memberships. "
   ]
  },
  {
   "cell_type": "code",
   "execution_count": 211,
   "metadata": {},
   "outputs": [
    {
     "data": {
      "text/html": [
       "<div>\n",
       "<style scoped>\n",
       "    .dataframe tbody tr th:only-of-type {\n",
       "        vertical-align: middle;\n",
       "    }\n",
       "\n",
       "    .dataframe tbody tr th {\n",
       "        vertical-align: top;\n",
       "    }\n",
       "\n",
       "    .dataframe thead th {\n",
       "        text-align: right;\n",
       "    }\n",
       "</style>\n",
       "<table border=\"1\" class=\"dataframe\">\n",
       "  <thead>\n",
       "    <tr style=\"text-align: right;\">\n",
       "      <th>is_member</th>\n",
       "      <th>test_given</th>\n",
       "      <th>member</th>\n",
       "      <th>not member</th>\n",
       "      <th>Total</th>\n",
       "      <th>Member percent</th>\n",
       "    </tr>\n",
       "  </thead>\n",
       "  <tbody>\n",
       "    <tr>\n",
       "      <th>0</th>\n",
       "      <td>Group A</td>\n",
       "      <td>200</td>\n",
       "      <td>2304</td>\n",
       "      <td>2504</td>\n",
       "      <td>0.079872</td>\n",
       "    </tr>\n",
       "    <tr>\n",
       "      <th>1</th>\n",
       "      <td>Group B</td>\n",
       "      <td>250</td>\n",
       "      <td>2250</td>\n",
       "      <td>2500</td>\n",
       "      <td>0.100000</td>\n",
       "    </tr>\n",
       "  </tbody>\n",
       "</table>\n",
       "</div>"
      ],
      "text/plain": [
       "is_member test_given  member  not member  Total  Member percent\n",
       "0            Group A     200        2304   2504        0.079872\n",
       "1            Group B     250        2250   2500        0.100000"
      ]
     },
     "execution_count": 211,
     "metadata": {},
     "output_type": "execute_result"
    }
   ],
   "source": [
    "grouped_members = df.groupby([\"test_given\", \"is_member\"]).first_name.count().reset_index()\n",
    "grouped_members = grouped_members.pivot(index=\"test_given\", columns=\"is_member\", values=\"first_name\").reset_index()\n",
    "grouped_members[\"Total\"] = grouped_members[\"member\"] + grouped_members[\"not member\"]\n",
    "grouped_members[\"Member percent\"] = grouped_members[\"member\"] / grouped_members[\"Total\"]\n",
    "grouped_members"
   ]
  },
  {
   "cell_type": "markdown",
   "metadata": {},
   "source": [
    "## Calculate the statistical significance between groups"
   ]
  },
  {
   "cell_type": "markdown",
   "metadata": {},
   "source": [
    "Determine if there is a significant difference in memberships between Group A and Group B."
   ]
  },
  {
   "cell_type": "code",
   "execution_count": 212,
   "metadata": {},
   "outputs": [
    {
     "data": {
      "text/plain": [
       "0.014724114645783203"
      ]
     },
     "execution_count": 212,
     "metadata": {},
     "output_type": "execute_result"
    }
   ],
   "source": [
    "# p-value\n",
    "contingency = [[200, 2304], [250, 2250]]\n",
    "chi2, pval, dof, expected = chi2_contingency(contingency)\n",
    "pval"
   ]
  },
  {
   "cell_type": "markdown",
   "metadata": {},
   "source": [
    "## Visualize the results"
   ]
  },
  {
   "cell_type": "markdown",
   "metadata": {},
   "source": [
    "## Percent of visitors who apply\n"
   ]
  },
  {
   "cell_type": "code",
   "execution_count": 213,
   "metadata": {},
   "outputs": [
    {
     "data": {
      "text/html": [
       "<div>\n",
       "<style scoped>\n",
       "    .dataframe tbody tr th:only-of-type {\n",
       "        vertical-align: middle;\n",
       "    }\n",
       "\n",
       "    .dataframe tbody tr th {\n",
       "        vertical-align: top;\n",
       "    }\n",
       "\n",
       "    .dataframe thead th {\n",
       "        text-align: right;\n",
       "    }\n",
       "</style>\n",
       "<table border=\"1\" class=\"dataframe\">\n",
       "  <thead>\n",
       "    <tr style=\"text-align: right;\">\n",
       "      <th>has_applied</th>\n",
       "      <th>test_given</th>\n",
       "      <th>applied</th>\n",
       "      <th>not applied</th>\n",
       "      <th>Total</th>\n",
       "      <th>Application percent</th>\n",
       "    </tr>\n",
       "  </thead>\n",
       "  <tbody>\n",
       "    <tr>\n",
       "      <th>0</th>\n",
       "      <td>Group A</td>\n",
       "      <td>250</td>\n",
       "      <td>2254</td>\n",
       "      <td>2504</td>\n",
       "      <td>0.09984</td>\n",
       "    </tr>\n",
       "    <tr>\n",
       "      <th>1</th>\n",
       "      <td>Group B</td>\n",
       "      <td>325</td>\n",
       "      <td>2175</td>\n",
       "      <td>2500</td>\n",
       "      <td>0.13000</td>\n",
       "    </tr>\n",
       "  </tbody>\n",
       "</table>\n",
       "</div>"
      ],
      "text/plain": [
       "has_applied test_given  applied  not applied  Total  Application percent\n",
       "0              Group A      250         2254   2504              0.09984\n",
       "1              Group B      325         2175   2500              0.13000"
      ]
     },
     "execution_count": 213,
     "metadata": {},
     "output_type": "execute_result"
    }
   ],
   "source": [
    "grouped_app"
   ]
  },
  {
   "cell_type": "code",
   "execution_count": 214,
   "metadata": {},
   "outputs": [
    {
     "data": {
      "image/png": "[encoded data removed]",
      "text/plain": [
       "<Figure size 432x288 with 1 Axes>"
      ]
     },
     "metadata": {},
     "output_type": "display_data"
    }
   ],
   "source": [
    "data = grouped_app[\"Application percent\"].values\n",
    "ax = plt.subplot()\n",
    "plt.bar(range(len(data)), data)\n",
    "ax.set_xticks(range(len(data)))\n",
    "ax.set_xticklabels([\"Group A\", \"Group B\"])\n",
    "ax.set_yticks([0, 0.05, 0.10, 0.15, 0.20])\n",
    "ax.set_yticklabels([\"0%\", \"5%\", \"10%\", \"15%\", \"20%\"])\n",
    "plt.title(\"Percent of visitors who apply in each group\")\n",
    "plt.show()\n",
    "plt.close()"
   ]
  },
  {
   "cell_type": "markdown",
   "metadata": {},
   "source": [
    "## Percent of applicants who purchase a membership.\n"
   ]
  },
  {
   "cell_type": "code",
   "execution_count": 215,
   "metadata": {},
   "outputs": [
    {
     "data": {
      "text/html": [
       "<div>\n",
       "<style scoped>\n",
       "    .dataframe tbody tr th:only-of-type {\n",
       "        vertical-align: middle;\n",
       "    }\n",
       "\n",
       "    .dataframe tbody tr th {\n",
       "        vertical-align: top;\n",
       "    }\n",
       "\n",
       "    .dataframe thead th {\n",
       "        text-align: right;\n",
       "    }\n",
       "</style>\n",
       "<table border=\"1\" class=\"dataframe\">\n",
       "  <thead>\n",
       "    <tr style=\"text-align: right;\">\n",
       "      <th>is_member</th>\n",
       "      <th>test_given</th>\n",
       "      <th>member</th>\n",
       "      <th>not member</th>\n",
       "      <th>Total</th>\n",
       "      <th>Member percent</th>\n",
       "    </tr>\n",
       "  </thead>\n",
       "  <tbody>\n",
       "    <tr>\n",
       "      <th>0</th>\n",
       "      <td>Group A</td>\n",
       "      <td>200</td>\n",
       "      <td>50</td>\n",
       "      <td>250</td>\n",
       "      <td>0.800000</td>\n",
       "    </tr>\n",
       "    <tr>\n",
       "      <th>1</th>\n",
       "      <td>Group B</td>\n",
       "      <td>250</td>\n",
       "      <td>75</td>\n",
       "      <td>325</td>\n",
       "      <td>0.769231</td>\n",
       "    </tr>\n",
       "  </tbody>\n",
       "</table>\n",
       "</div>"
      ],
      "text/plain": [
       "is_member test_given  member  not member  Total  Member percent\n",
       "0            Group A     200          50    250        0.800000\n",
       "1            Group B     250          75    325        0.769231"
      ]
     },
     "execution_count": 215,
     "metadata": {},
     "output_type": "execute_result"
    }
   ],
   "source": [
    "grouped"
   ]
  },
  {
   "cell_type": "code",
   "execution_count": 216,
   "metadata": {},
   "outputs": [
    {
     "data": {
      "image/png": "[encoded data removed]",
      "text/plain": [
       "<Figure size 432x288 with 1 Axes>"
      ]
     },
     "metadata": {},
     "output_type": "display_data"
    }
   ],
   "source": [
    "data = grouped[\"Member percent\"].values\n",
    "ax = plt.subplot()\n",
    "plt.bar(range(len(data)), data)\n",
    "ax.set_xticks(range(len(data)))\n",
    "ax.set_xticklabels([\"Group A\", \"Group B\"])\n",
    "ax.set_yticks([0, 0.1, 0.2, 0.3, 0.4, 0.5, 0.6, 0.7, 0.8, 0.9, 1])\n",
    "ax.set_yticklabels([\"0%\", \"10%\", \"20%\", \"30%\", \"40%\", \"50%\", \"60%\", \"70%\", \"80%\", \"90%\", \"100%\"])\n",
    "plt.title(\"Percent of applicants who is a member in each group\")\n",
    "plt.show()\n",
    "plt.close()"
   ]
  },
  {
   "cell_type": "markdown",
   "metadata": {},
   "source": [
    "## Percent of visitors who purchase a membership."
   ]
  },
  {
   "cell_type": "code",
   "execution_count": 217,
   "metadata": {},
   "outputs": [
    {
     "data": {
      "text/html": [
       "<div>\n",
       "<style scoped>\n",
       "    .dataframe tbody tr th:only-of-type {\n",
       "        vertical-align: middle;\n",
       "    }\n",
       "\n",
       "    .dataframe tbody tr th {\n",
       "        vertical-align: top;\n",
       "    }\n",
       "\n",
       "    .dataframe thead th {\n",
       "        text-align: right;\n",
       "    }\n",
       "</style>\n",
       "<table border=\"1\" class=\"dataframe\">\n",
       "  <thead>\n",
       "    <tr style=\"text-align: right;\">\n",
       "      <th>is_member</th>\n",
       "      <th>test_given</th>\n",
       "      <th>member</th>\n",
       "      <th>not member</th>\n",
       "      <th>Total</th>\n",
       "      <th>Member percent</th>\n",
       "    </tr>\n",
       "  </thead>\n",
       "  <tbody>\n",
       "    <tr>\n",
       "      <th>0</th>\n",
       "      <td>Group A</td>\n",
       "      <td>200</td>\n",
       "      <td>2304</td>\n",
       "      <td>2504</td>\n",
       "      <td>0.079872</td>\n",
       "    </tr>\n",
       "    <tr>\n",
       "      <th>1</th>\n",
       "      <td>Group B</td>\n",
       "      <td>250</td>\n",
       "      <td>2250</td>\n",
       "      <td>2500</td>\n",
       "      <td>0.100000</td>\n",
       "    </tr>\n",
       "  </tbody>\n",
       "</table>\n",
       "</div>"
      ],
      "text/plain": [
       "is_member test_given  member  not member  Total  Member percent\n",
       "0            Group A     200        2304   2504        0.079872\n",
       "1            Group B     250        2250   2500        0.100000"
      ]
     },
     "execution_count": 217,
     "metadata": {},
     "output_type": "execute_result"
    }
   ],
   "source": [
    "grouped_members"
   ]
  },
  {
   "cell_type": "code",
   "execution_count": 218,
   "metadata": {},
   "outputs": [
    {
     "data": {
      "image/png": "[encoded data removed]",
      "text/plain": [
       "<Figure size 432x288 with 1 Axes>"
      ]
     },
     "metadata": {},
     "output_type": "display_data"
    }
   ],
   "source": [
    "data = grouped_members[\"Member percent\"].values\n",
    "ax = plt.subplot()\n",
    "plt.bar(range(len(data)), data)\n",
    "ax.set_xticks(range(len(data)))\n",
    "ax.set_xticklabels([\"Group A\", \"Group B\"])\n",
    "ax.set_yticks([0, 0.05, 0.10, 0.15, 0.20])\n",
    "ax.set_yticklabels([\"0%\", \"5%\", \"10%\", \"15%\", \"20%\"])\n",
    "plt.title(\"Percent of visitors who is a member in each group\")\n",
    "plt.show()\n",
    "plt.close()"
   ]
  },
  {
   "cell_type": "markdown",
   "metadata": {},
   "source": [
    "# Conclusion"
   ]
  },
  {
   "cell_type": "markdown",
   "metadata": {},
   "source": []
  }
 ],
 "metadata": {
  "interpreter": {
   "hash": "24a831a009035fcc4b5bc1731ec2f041984e8b2b8b95e0e3a1476be848366ca6"
  },
  "kernelspec": {
   "display_name": "Python 3.9.7 ('base')",
   "language": "python",
   "name": "python3"
  },
  "language_info": {
   "codemirror_mode": {
    "name": "ipython",
    "version": 3
   },
   "file_extension": ".py",
   "mimetype": "text/x-python",
   "name": "python",
   "nbconvert_exporter": "python",
   "pygments_lexer": "ipython3",
   "version": "3.9.7"
  },
  "toc": {
   "base_numbering": 1,
   "nav_menu": {},
   "number_sections": true,
   "sideBar": true,
   "skip_h1_title": false,
   "title_cell": "Table of Contents",
   "title_sidebar": "Contents",
   "toc_cell": false,
   "toc_position": {},
   "toc_section_display": true,
   "toc_window_display": false
  }
 },
 "nbformat": 4,
 "nbformat_minor": 2
}
